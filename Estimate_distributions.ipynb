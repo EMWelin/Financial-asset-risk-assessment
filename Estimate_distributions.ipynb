{
  "nbformat": 4,
  "nbformat_minor": 0,
  "metadata": {
    "colab": {
      "provenance": [],
      "toc_visible": true
    },
    "kernelspec": {
      "name": "python3",
      "display_name": "Python 3"
    },
    "language_info": {
      "name": "python"
    }
  },
  "cells": [
    {
      "cell_type": "markdown",
      "source": [
        "# Introduction\n",
        "\n",
        "Estimate statistical behaviour of the All country world index.\n",
        "\n",
        "EM Welin 2025"
      ],
      "metadata": {
        "id": "FqewXIwCgEUb"
      }
    },
    {
      "cell_type": "markdown",
      "source": [
        "# Install dependencies and download data"
      ],
      "metadata": {
        "id": "Ed0ndZJuCPak"
      }
    },
    {
      "cell_type": "code",
      "execution_count": 1,
      "metadata": {
        "colab": {
          "base_uri": "https://localhost:8080/"
        },
        "id": "Otm9aNpOdGJt",
        "outputId": "3cd33a9e-4860-4c95-e9f8-6713fb3973cb"
      },
      "outputs": [
        {
          "output_type": "stream",
          "name": "stdout",
          "text": [
            "Requirement already satisfied: yfinance in /usr/local/lib/python3.11/dist-packages (0.2.55)\n",
            "Requirement already satisfied: pandas>=1.3.0 in /usr/local/lib/python3.11/dist-packages (from yfinance) (2.2.2)\n",
            "Requirement already satisfied: numpy>=1.16.5 in /usr/local/lib/python3.11/dist-packages (from yfinance) (2.0.2)\n",
            "Requirement already satisfied: requests>=2.31 in /usr/local/lib/python3.11/dist-packages (from yfinance) (2.32.3)\n",
            "Requirement already satisfied: multitasking>=0.0.7 in /usr/local/lib/python3.11/dist-packages (from yfinance) (0.0.11)\n",
            "Requirement already satisfied: platformdirs>=2.0.0 in /usr/local/lib/python3.11/dist-packages (from yfinance) (4.3.7)\n",
            "Requirement already satisfied: pytz>=2022.5 in /usr/local/lib/python3.11/dist-packages (from yfinance) (2025.2)\n",
            "Requirement already satisfied: frozendict>=2.3.4 in /usr/local/lib/python3.11/dist-packages (from yfinance) (2.4.6)\n",
            "Requirement already satisfied: peewee>=3.16.2 in /usr/local/lib/python3.11/dist-packages (from yfinance) (3.17.9)\n",
            "Requirement already satisfied: beautifulsoup4>=4.11.1 in /usr/local/lib/python3.11/dist-packages (from yfinance) (4.13.4)\n",
            "Requirement already satisfied: soupsieve>1.2 in /usr/local/lib/python3.11/dist-packages (from beautifulsoup4>=4.11.1->yfinance) (2.6)\n",
            "Requirement already satisfied: typing-extensions>=4.0.0 in /usr/local/lib/python3.11/dist-packages (from beautifulsoup4>=4.11.1->yfinance) (4.13.2)\n",
            "Requirement already satisfied: python-dateutil>=2.8.2 in /usr/local/lib/python3.11/dist-packages (from pandas>=1.3.0->yfinance) (2.8.2)\n",
            "Requirement already satisfied: tzdata>=2022.7 in /usr/local/lib/python3.11/dist-packages (from pandas>=1.3.0->yfinance) (2025.2)\n",
            "Requirement already satisfied: charset-normalizer<4,>=2 in /usr/local/lib/python3.11/dist-packages (from requests>=2.31->yfinance) (3.4.1)\n",
            "Requirement already satisfied: idna<4,>=2.5 in /usr/local/lib/python3.11/dist-packages (from requests>=2.31->yfinance) (3.10)\n",
            "Requirement already satisfied: urllib3<3,>=1.21.1 in /usr/local/lib/python3.11/dist-packages (from requests>=2.31->yfinance) (2.3.0)\n",
            "Requirement already satisfied: certifi>=2017.4.17 in /usr/local/lib/python3.11/dist-packages (from requests>=2.31->yfinance) (2025.1.31)\n",
            "Requirement already satisfied: six>=1.5 in /usr/local/lib/python3.11/dist-packages (from python-dateutil>=2.8.2->pandas>=1.3.0->yfinance) (1.17.0)\n"
          ]
        }
      ],
      "source": [
        "! pip install yfinance"
      ]
    },
    {
      "cell_type": "code",
      "source": [
        "# get today's date because we will use data most recent data for estimation.\n",
        "\n",
        "from datetime import date\n",
        "\n",
        "# Get today's date\n",
        "today = date.today()\n",
        "print(\"Today's date:\", today)"
      ],
      "metadata": {
        "colab": {
          "base_uri": "https://localhost:8080/"
        },
        "id": "YusayMsZfm2F",
        "outputId": "ea2cef31-75de-4590-f96a-bc6df2e94aae"
      },
      "execution_count": 2,
      "outputs": [
        {
          "output_type": "stream",
          "name": "stdout",
          "text": [
            "Today's date: 2025-04-24\n"
          ]
        }
      ]
    },
    {
      "cell_type": "code",
      "source": [
        "# The years variable descbires how many years back we want to use for estimation.\n",
        "\n",
        "from datetime import timedelta\n",
        "\n",
        "years = 10\n",
        "delta = timedelta(days= years * 365)\n",
        "start_of_period = today -  delta\n",
        "print(start_of_period)"
      ],
      "metadata": {
        "colab": {
          "base_uri": "https://localhost:8080/"
        },
        "id": "jXZEPyaAgMoC",
        "outputId": "5d85b926-9042-4c95-96e5-d0332e5f848f"
      },
      "execution_count": 3,
      "outputs": [
        {
          "output_type": "stream",
          "name": "stdout",
          "text": [
            "2015-04-27\n"
          ]
        }
      ]
    },
    {
      "cell_type": "code",
      "source": [
        "import yfinance as yf\n",
        "import pandas as pd\n",
        "\n",
        "# MSCI All country world index proxied by iShares ACWI ETF ticker: 'ACWI'.\n",
        "\n",
        "ticker = 'ACWI'\n",
        "\n",
        "# actions = True includes dividend data.\n",
        "data = yf.download(ticker, start=start_of_period, end= today, actions = True)\n",
        "\n",
        "# data is a pandas dataframe with useful information about the chosen ticker.\n",
        "\n",
        "print('\\n', f\"datatype: {type(data)}\")\n",
        "columns_list = data.columns.tolist()\n",
        "print(columns_list)"
      ],
      "metadata": {
        "colab": {
          "base_uri": "https://localhost:8080/"
        },
        "id": "BYbulUKUHMmt",
        "outputId": "346724ff-f6df-431d-ac4a-61404449272f"
      },
      "execution_count": 4,
      "outputs": [
        {
          "output_type": "stream",
          "name": "stdout",
          "text": [
            "YF.download() has changed argument auto_adjust default to True\n"
          ]
        },
        {
          "output_type": "stream",
          "name": "stderr",
          "text": [
            "\r[*********************100%***********************]  1 of 1 completed"
          ]
        },
        {
          "output_type": "stream",
          "name": "stdout",
          "text": [
            "\n",
            " datatype: <class 'pandas.core.frame.DataFrame'>\n",
            "[('Capital Gains', 'ACWI'), ('Close', 'ACWI'), ('Dividends', 'ACWI'), ('High', 'ACWI'), ('Low', 'ACWI'), ('Open', 'ACWI'), ('Stock Splits', 'ACWI'), ('Volume', 'ACWI')]\n"
          ]
        },
        {
          "output_type": "stream",
          "name": "stderr",
          "text": [
            "\n"
          ]
        }
      ]
    },
    {
      "cell_type": "code",
      "source": [
        "# using changes in close price I can estimate returns. The problem is this doesn't account for dividends.\n",
        "# in order to solve this we create a new column True Close that can be used in returns calculation\n",
        "\n",
        "# Fill NaN values with 0 before performing the calculation\n",
        "data[('True Close', 'ACWI')] = data[('Close', 'ACWI')].fillna(0) + data[('Dividends', 'ACWI')].fillna(0)\n",
        "\n",
        "# calculation percentage return including dividends.\n",
        "\n",
        "data[('Returns %', 'ACWI')] = data[('True Close', 'ACWI')].pct_change() * 100"
      ],
      "metadata": {
        "id": "LcOGwYAZke7t"
      },
      "execution_count": 5,
      "outputs": []
    },
    {
      "cell_type": "code",
      "source": [
        "print(data.head())"
      ],
      "metadata": {
        "colab": {
          "base_uri": "https://localhost:8080/"
        },
        "id": "_oZXIuHN5zCp",
        "outputId": "0fe9ca66-1cc7-4d83-b705-f59f44e63536"
      },
      "execution_count": 6,
      "outputs": [
        {
          "output_type": "stream",
          "name": "stdout",
          "text": [
            "Price      Capital Gains      Close Dividends       High        Low  \\\n",
            "Ticker              ACWI       ACWI      ACWI       ACWI       ACWI   \n",
            "Date                                                                  \n",
            "2015-04-27           0.0  51.278847       0.0  51.565411  51.229720   \n",
            "2015-04-28           0.0  51.377098       0.0  51.393474  50.992281   \n",
            "2015-04-29           0.0  51.082348       0.0  51.213349  50.885848   \n",
            "2015-04-30           0.0  50.550156       0.0  50.877657  50.419154   \n",
            "2015-05-01           0.0  51.008648       0.0  51.016837  50.672957   \n",
            "\n",
            "Price            Open Stock Splits   Volume True Close Returns %  \n",
            "Ticker           ACWI         ACWI     ACWI       ACWI      ACWI  \n",
            "Date                                                              \n",
            "2015-04-27  51.540849          0.0   402300  51.278847       NaN  \n",
            "2015-04-28  51.262472          0.0   613500  51.377098  0.191602  \n",
            "2015-04-29  51.041411          0.0   794200  51.082348 -0.573700  \n",
            "2015-04-30  50.763031          0.0   767700  50.550156 -1.041832  \n",
            "2015-05-01  50.722084          0.0  1766300  51.008648  0.907005  \n"
          ]
        }
      ]
    },
    {
      "cell_type": "markdown",
      "source": [
        "# Plot data and test assumption about Gaussian fit"
      ],
      "metadata": {
        "id": "UyJ7y4EnmZ-T"
      }
    },
    {
      "cell_type": "code",
      "source": [
        "import matplotlib.pyplot as plt\n",
        "\n",
        "# Plot histogram of the returns\n",
        "plt.figure(figsize=(10, 6))\n",
        "plt.hist(data[('Returns %', 'ACWI')].dropna(), bins=50, edgecolor='black')\n",
        "plt.title('Histogram of Daily Returns for $ACWI')\n",
        "plt.xlabel('Returns [%]')\n",
        "plt.ylabel('Frequency')\n",
        "plt.grid(True)\n",
        "plt.show()"
      ],
      "metadata": {
        "colab": {
          "base_uri": "https://localhost:8080/",
          "height": 564
        },
        "id": "Z00cuUwsA6Mu",
        "outputId": "0eca0420-127b-41bf-b0d9-1c777ade8f0c"
      },
      "execution_count": 7,
      "outputs": [
        {
          "output_type": "display_data",
          "data": {
            "text/plain": [
              "<Figure size 1000x600 with 1 Axes>"
            ],
            "image/png": "[encoded data removed]"
          },
          "metadata": {}
        }
      ]
    },
    {
      "cell_type": "code",
      "source": [
        "# Calculate mean and standard deviation for returns\n",
        "mean_returns = data[('Returns %', 'ACWI')].mean()\n",
        "std_returns = data[('Returns %', 'ACWI')].std()\n",
        "\n",
        "# Print the results\n",
        "print(f\"Mean of Returns: {mean_returns}\")\n",
        "print(f\"Standard Deviation of Returns: {std_returns}\")\n",
        "\n",
        "# calculate skewness and kurtosis.\n",
        "# Gaussian distributions have a skewness close to 0 and Kurtosis close to 3.\n",
        "\n",
        "skewness = data[('Returns %', 'ACWI')].skew()\n",
        "kurtosis = data[('Returns %', 'ACWI')].kurt()\n",
        "\n",
        "print(f\"Skewness: {skewness}\")\n",
        "print(f\"Kurtosis: {kurtosis}\")"
      ],
      "metadata": {
        "colab": {
          "base_uri": "https://localhost:8080/"
        },
        "id": "puDvxdy6jOCk",
        "outputId": "4d95164e-023c-4278-d603-87f09ade6822"
      },
      "execution_count": 8,
      "outputs": [
        {
          "output_type": "stream",
          "name": "stdout",
          "text": [
            "Mean of Returns: 0.03776006382454037\n",
            "Standard Deviation of Returns: 1.1072095616996684\n",
            "Skewness: -0.6317187314695819\n",
            "Kurtosis: 13.541155206897312\n"
          ]
        }
      ]
    },
    {
      "cell_type": "code",
      "source": [
        "# test probability of finding extreme returns given assumption..\n",
        "# about Gaussian distribution.\n",
        "\n",
        "from scipy.stats import norm\n",
        "\n",
        "# Parameters of Gassuian distribution\n",
        "mean = mean_returns\n",
        "std_dev = std_returns\n",
        "\n",
        "# Find extreme negative value.\n",
        "# The choice between extreme positive / negative is arbitrary.\n",
        "\n",
        "min_value = data[('Returns %', 'ACWI')].min()\n",
        "x = min_value\n",
        "\n",
        "# Calculate the cumulative probability (CDF)\n",
        "cumulative_prob = norm.cdf(x, loc=mean, scale=std_dev)\n",
        "\n",
        "# Calculate the probability density (PDF)\n",
        "pdf_value = norm.pdf(x, loc=mean, scale=std_dev)\n",
        "\n",
        "print(f\"Cumulative Probability (P(X <= {x})): {cumulative_prob}\")\n",
        "print(f\"Probability Density (PDF at {x}): {pdf_value}\")"
      ],
      "metadata": {
        "colab": {
          "base_uri": "https://localhost:8080/"
        },
        "id": "pI7xYnAJO7LU",
        "outputId": "5d6af2d3-e157-401b-b2d8-201a62cf9a09"
      },
      "execution_count": 9,
      "outputs": [
        {
          "output_type": "stream",
          "name": "stdout",
          "text": [
            "Cumulative Probability (P(X <= -11.21525226865635)): 1.4441428642454754e-24\n",
            "Probability Density (PDF at -11.21525226865635): 1.338216910269647e-23\n"
          ]
        }
      ]
    },
    {
      "cell_type": "code",
      "source": [
        "# What we learnt from the previous block is that the probability of the returns observed are close to impossible given assumptions about Gassuian data."
      ],
      "metadata": {
        "id": "JxD_QiHlIb_1"
      },
      "execution_count": 10,
      "outputs": []
    },
    {
      "cell_type": "markdown",
      "source": [
        "# Fit other distrubtions\n",
        "\n",
        "Fit Johnson SU and Tukey Lambda distributions to the data instead.\n",
        "These are very frequently used in financial modelling due to their\n",
        "improved ability to caputre tail-events compared to the Gaussian distribution."
      ],
      "metadata": {
        "id": "PaZOT6hskKQI"
      }
    },
    {
      "cell_type": "code",
      "source": [
        "import numpy as np\n",
        "from scipy.stats import johnsonsu\n",
        "\n",
        "# convert to array in order be able to fit the data to johnson su distribution.\n",
        "\n",
        "return_col = data['Returns %'].dropna()\n",
        "return_arr = return_col.to_numpy()  # convert to array.\n",
        "\n",
        "# Fit the Johnson SU distribution\n",
        "johnson_params = johnsonsu.fit(return_arr)\n",
        "a_su, b_su, loc_su, scale_su = johnson_params  # Shape parameters a, b, location, scale\n",
        "\n",
        "# PDF for visualization\n",
        "x = np.linspace(min(return_arr), max(return_arr), 1000)\n",
        "pdf = johnsonsu.pdf(x, a_su, b_su, loc=loc_su, scale=scale_su)\n",
        "\n",
        "# Plot\n",
        "plt.hist(return_arr, bins=30, density=True, alpha=0.6, color='blue', label='Data Histogram')\n",
        "plt.plot(x, pdf, 'r-', lw=2, label='Fitted Johnson SU PDF')\n",
        "plt.title(\"Fitted Johnson SU Distribution\")\n",
        "plt.xlabel(\"Returns\")\n",
        "plt.ylabel(\"Density\")\n",
        "plt.legend()\n",
        "plt.show()"
      ],
      "metadata": {
        "colab": {
          "base_uri": "https://localhost:8080/",
          "height": 472
        },
        "id": "lVUIRjl9d3mr",
        "outputId": "26702f82-31df-45fb-c964-1fec45287027"
      },
      "execution_count": 11,
      "outputs": [
        {
          "output_type": "display_data",
          "data": {
            "text/plain": [
              "<Figure size 640x480 with 1 Axes>"
            ],
            "image/png": "[encoded data removed]"
          },
          "metadata": {}
        }
      ]
    },
    {
      "cell_type": "code",
      "source": [
        "from scipy.stats import tukeylambda\n",
        "\n",
        "# Fit the Tukey Lambda distribution\n",
        "tukey_params = tukeylambda.fit(return_arr)\n",
        "lam_tl, loc_tl, scale_tl = tukey_params  # Shape, location, scale parameters\n",
        "\n",
        "# PDF for visualization\n",
        "x = np.linspace(min(return_arr), max(return_arr), 1000)\n",
        "pdf = tukeylambda.pdf(x, lam_tl, loc=loc_tl, scale=scale_tl)\n",
        "\n",
        "# Plot\n",
        "plt.hist(return_arr, bins=30, density=True, alpha=0.6, color='blue', label='Data Histogram')\n",
        "plt.plot(x, pdf, 'r-', lw=2, label='Fitted Tukey Lambda PDF')\n",
        "plt.title(\"Fitted Tukey Lambda Distribution\")\n",
        "plt.xlabel(\"Returns\")\n",
        "plt.ylabel(\"Density\")\n",
        "plt.legend()\n",
        "plt.show()"
      ],
      "metadata": {
        "colab": {
          "base_uri": "https://localhost:8080/",
          "height": 507
        },
        "id": "Cfx78p0Bd5fl",
        "outputId": "09db470b-5e85-447f-b7a1-8327287e9c9b"
      },
      "execution_count": 12,
      "outputs": [
        {
          "output_type": "stream",
          "name": "stderr",
          "text": [
            "/usr/local/lib/python3.11/dist-packages/scipy/stats/_continuous_distns.py:10513: RuntimeWarning: divide by zero encountered in power\n",
            "  Px = Fx**(lam-1.0) + (np.asarray(1-Fx))**(lam-1.0)\n"
          ]
        },
        {
          "output_type": "display_data",
          "data": {
            "text/plain": [
              "<Figure size 640x480 with 1 Axes>"
            ],
            "image/png": "[encoded data removed]"
          },
          "metadata": {}
        }
      ]
    },
    {
      "cell_type": "markdown",
      "source": [
        "# Kolmogorov-Smirnov test\n",
        "\n",
        "Test how well the fitted distributions fit out-of-sample data.\n",
        "\n"
      ],
      "metadata": {
        "id": "VD0FYOinMuCl"
      }
    },
    {
      "cell_type": "code",
      "source": [
        "import copy\n",
        "\n",
        "# fetch out of sample data.\n",
        "\n",
        "# number of years of out-of-sample data we test on.\n",
        "\n",
        "years = 3\n",
        "delta = timedelta(days = years * 365)\n",
        "# end of testperiod is start of training period.\n",
        "end = copy.deepcopy(start_of_period)\n",
        "start = end - delta\n",
        "print('start of test period: ', start, 'end of test period:', end)\n",
        "\n",
        "# MSCI All country world index proxied by iShares ACWI ETF ticker: 'ACWI'.\n",
        "\n",
        "ticker = 'ACWI'\n",
        "\n",
        "# actions = True includes dividend data.\n",
        "test_data = yf.download(ticker, start=start, end= end, actions = True)\n",
        "\n",
        "# Fill NaN values with 0 before performing the calculation\n",
        "test_data[('True Close', 'ACWI')] = test_data[('Close', 'ACWI')].fillna(0) + test_data[('Dividends', 'ACWI')].fillna(0)"
      ],
      "metadata": {
        "colab": {
          "base_uri": "https://localhost:8080/"
        },
        "id": "uGss4uyaM27k",
        "outputId": "fdb9b16a-98ee-40d7-d7fc-f547805878b1"
      },
      "execution_count": 13,
      "outputs": [
        {
          "output_type": "stream",
          "name": "stdout",
          "text": [
            "start of test period:  2012-04-27 end of test period: 2015-04-27\n"
          ]
        },
        {
          "output_type": "stream",
          "name": "stderr",
          "text": [
            "\r[*********************100%***********************]  1 of 1 completed\n"
          ]
        }
      ]
    },
    {
      "cell_type": "code",
      "source": [
        "test_data[('Returns %', 'ACWI')] = test_data[('True Close', 'ACWI')].pct_change() * 100\n",
        "test_data"
      ],
      "metadata": {
        "colab": {
          "base_uri": "https://localhost:8080/",
          "height": 486
        },
        "id": "0nNSAu4nRrsv",
        "outputId": "9d8b7005-6776-4d80-a9db-cde0a3c9a570"
      },
      "execution_count": 14,
      "outputs": [
        {
          "output_type": "execute_result",
          "data": {
            "text/plain": [
              "Price      Capital Gains      Close Dividends       High        Low  \\\n",
              "Ticker              ACWI       ACWI      ACWI       ACWI       ACWI   \n",
              "Date                                                                  \n",
              "2012-04-27           0.0  35.855049       0.0  35.946925  35.694262   \n",
              "2012-04-30           0.0  35.724884       0.0  35.816760  35.602381   \n",
              "2012-05-01           0.0  35.900993       0.0  36.100062  35.633020   \n",
              "2012-05-02           0.0  35.740211       0.0  35.763180  35.495206   \n",
              "2012-05-03           0.0  35.433964       0.0  35.740222  35.365056   \n",
              "...                  ...        ...       ...        ...        ...   \n",
              "2015-04-20           0.0  50.558334       0.0  50.664774  50.370020   \n",
              "2015-04-21           0.0  50.705719       0.0  50.943160  50.672968   \n",
              "2015-04-22           0.0  50.926792       0.0  50.951354  50.566536   \n",
              "2015-04-23           0.0  51.115086       0.0  51.246087  50.689331   \n",
              "2015-04-24           0.0  51.295231       0.0  51.360730  51.115103   \n",
              "\n",
              "Price            Open Stock Splits   Volume True Close Returns %  \n",
              "Ticker           ACWI         ACWI     ACWI       ACWI      ACWI  \n",
              "Date                                                              \n",
              "2012-04-27  35.908644          0.0   650600  35.855049       NaN  \n",
              "2012-04-30  35.816760          0.0   363900  35.724884 -0.363031  \n",
              "2012-05-01  35.633020          0.0   516300  35.900993  0.492960  \n",
              "2012-05-02  35.571769          0.0   524700  35.740211 -0.447848  \n",
              "2012-05-03  35.724909          0.0   901300  35.433964 -0.856872  \n",
              "...               ...          ...      ...        ...       ...  \n",
              "2015-04-20  50.419147          0.0   759900  50.558334  0.537286  \n",
              "2015-04-21  50.894033          0.0  2212200  50.705719  0.291514  \n",
              "2015-04-22  50.779415          0.0   510700  50.926792  0.435993  \n",
              "2015-04-23  50.779395          0.0   996000  51.115086  0.369734  \n",
              "2015-04-24  51.254290          0.0   884100  51.295231  0.352431  \n",
              "\n",
              "[752 rows x 10 columns]"
            ],
            "text/html": [
              "\n",
              "  <div id=\"df-a1033066-d4a8-4313-9022-ba954a67a677\" class=\"colab-df-container\">\n",
              "    <div>\n",
              "<style scoped>\n",
              "    .dataframe tbody tr th:only-of-type {\n",
              "        vertical-align: middle;\n",
              "    }\n",
              "\n",
              "    .dataframe tbody tr th {\n",
              "        vertical-align: top;\n",
              "    }\n",
              "\n",
              "    .dataframe thead tr th {\n",
              "        text-align: left;\n",
              "    }\n",
              "\n",
              "    .dataframe thead tr:last-of-type th {\n",
              "        text-align: right;\n",
              "    }\n",
              "</style>\n",
              "<table border=\"1\" class=\"dataframe\">\n",
              "  <thead>\n",
              "    <tr>\n",
              "      <th>Price</th>\n",
              "      <th>Capital Gains</th>\n",
              "      <th>Close</th>\n",
              "      <th>Dividends</th>\n",
              "      <th>High</th>\n",
              "      <th>Low</th>\n",
              "      <th>Open</th>\n",
              "      <th>Stock Splits</th>\n",
              "      <th>Volume</th>\n",
              "      <th>True Close</th>\n",
              "      <th>Returns %</th>\n",
              "    </tr>\n",
              "    <tr>\n",
              "      <th>Ticker</th>\n",
              "      <th>ACWI</th>\n",
              "      <th>ACWI</th>\n",
              "      <th>ACWI</th>\n",
              "      <th>ACWI</th>\n",
              "      <th>ACWI</th>\n",
              "      <th>ACWI</th>\n",
              "      <th>ACWI</th>\n",
              "      <th>ACWI</th>\n",
              "      <th>ACWI</th>\n",
              "      <th>ACWI</th>\n",
              "    </tr>\n",
              "    <tr>\n",
              "      <th>Date</th>\n",
              "      <th></th>\n",
              "      <th></th>\n",
              "      <th></th>\n",
              "      <th></th>\n",
              "      <th></th>\n",
              "      <th></th>\n",
              "      <th></th>\n",
              "      <th></th>\n",
              "      <th></th>\n",
              "      <th></th>\n",
              "    </tr>\n",
              "  </thead>\n",
              "  <tbody>\n",
              "    <tr>\n",
              "      <th>2012-04-27</th>\n",
              "      <td>0.0</td>\n",
              "      <td>35.855049</td>\n",
              "      <td>0.0</td>\n",
              "      <td>35.946925</td>\n",
              "      <td>35.694262</td>\n",
              "      <td>35.908644</td>\n",
              "      <td>0.0</td>\n",
              "      <td>650600</td>\n",
              "      <td>35.855049</td>\n",
              "      <td>NaN</td>\n",
              "    </tr>\n",
              "    <tr>\n",
              "      <th>2012-04-30</th>\n",
              "      <td>0.0</td>\n",
              "      <td>35.724884</td>\n",
              "      <td>0.0</td>\n",
              "      <td>35.816760</td>\n",
              "      <td>35.602381</td>\n",
              "      <td>35.816760</td>\n",
              "      <td>0.0</td>\n",
              "      <td>363900</td>\n",
              "      <td>35.724884</td>\n",
              "      <td>-0.363031</td>\n",
              "    </tr>\n",
              "    <tr>\n",
              "      <th>2012-05-01</th>\n",
              "      <td>0.0</td>\n",
              "      <td>35.900993</td>\n",
              "      <td>0.0</td>\n",
              "      <td>36.100062</td>\n",
              "      <td>35.633020</td>\n",
              "      <td>35.633020</td>\n",
              "      <td>0.0</td>\n",
              "      <td>516300</td>\n",
              "      <td>35.900993</td>\n",
              "      <td>0.492960</td>\n",
              "    </tr>\n",
              "    <tr>\n",
              "      <th>2012-05-02</th>\n",
              "      <td>0.0</td>\n",
              "      <td>35.740211</td>\n",
              "      <td>0.0</td>\n",
              "      <td>35.763180</td>\n",
              "      <td>35.495206</td>\n",
              "      <td>35.571769</td>\n",
              "      <td>0.0</td>\n",
              "      <td>524700</td>\n",
              "      <td>35.740211</td>\n",
              "      <td>-0.447848</td>\n",
              "    </tr>\n",
              "    <tr>\n",
              "      <th>2012-05-03</th>\n",
              "      <td>0.0</td>\n",
              "      <td>35.433964</td>\n",
              "      <td>0.0</td>\n",
              "      <td>35.740222</td>\n",
              "      <td>35.365056</td>\n",
              "      <td>35.724909</td>\n",
              "      <td>0.0</td>\n",
              "      <td>901300</td>\n",
              "      <td>35.433964</td>\n",
              "      <td>-0.856872</td>\n",
              "    </tr>\n",
              "    <tr>\n",
              "      <th>...</th>\n",
              "      <td>...</td>\n",
              "      <td>...</td>\n",
              "      <td>...</td>\n",
              "      <td>...</td>\n",
              "      <td>...</td>\n",
              "      <td>...</td>\n",
              "      <td>...</td>\n",
              "      <td>...</td>\n",
              "      <td>...</td>\n",
              "      <td>...</td>\n",
              "    </tr>\n",
              "    <tr>\n",
              "      <th>2015-04-20</th>\n",
              "      <td>0.0</td>\n",
              "      <td>50.558334</td>\n",
              "      <td>0.0</td>\n",
              "      <td>50.664774</td>\n",
              "      <td>50.370020</td>\n",
              "      <td>50.419147</td>\n",
              "      <td>0.0</td>\n",
              "      <td>759900</td>\n",
              "      <td>50.558334</td>\n",
              "      <td>0.537286</td>\n",
              "    </tr>\n",
              "    <tr>\n",
              "      <th>2015-04-21</th>\n",
              "      <td>0.0</td>\n",
              "      <td>50.705719</td>\n",
              "      <td>0.0</td>\n",
              "      <td>50.943160</td>\n",
              "      <td>50.672968</td>\n",
              "      <td>50.894033</td>\n",
              "      <td>0.0</td>\n",
              "      <td>2212200</td>\n",
              "      <td>50.705719</td>\n",
              "      <td>0.291514</td>\n",
              "    </tr>\n",
              "    <tr>\n",
              "      <th>2015-04-22</th>\n",
              "      <td>0.0</td>\n",
              "      <td>50.926792</td>\n",
              "      <td>0.0</td>\n",
              "      <td>50.951354</td>\n",
              "      <td>50.566536</td>\n",
              "      <td>50.779415</td>\n",
              "      <td>0.0</td>\n",
              "      <td>510700</td>\n",
              "      <td>50.926792</td>\n",
              "      <td>0.435993</td>\n",
              "    </tr>\n",
              "    <tr>\n",
              "      <th>2015-04-23</th>\n",
              "      <td>0.0</td>\n",
              "      <td>51.115086</td>\n",
              "      <td>0.0</td>\n",
              "      <td>51.246087</td>\n",
              "      <td>50.689331</td>\n",
              "      <td>50.779395</td>\n",
              "      <td>0.0</td>\n",
              "      <td>996000</td>\n",
              "      <td>51.115086</td>\n",
              "      <td>0.369734</td>\n",
              "    </tr>\n",
              "    <tr>\n",
              "      <th>2015-04-24</th>\n",
              "      <td>0.0</td>\n",
              "      <td>51.295231</td>\n",
              "      <td>0.0</td>\n",
              "      <td>51.360730</td>\n",
              "      <td>51.115103</td>\n",
              "      <td>51.254290</td>\n",
              "      <td>0.0</td>\n",
              "      <td>884100</td>\n",
              "      <td>51.295231</td>\n",
              "      <td>0.352431</td>\n",
              "    </tr>\n",
              "  </tbody>\n",
              "</table>\n",
              "<p>752 rows × 10 columns</p>\n",
              "</div>\n",
              "    <div class=\"colab-df-buttons\">\n",
              "\n",
              "  <div class=\"colab-df-container\">\n",
              "    <button class=\"colab-df-convert\" onclick=\"convertToInteractive('df-a1033066-d4a8-4313-9022-ba954a67a677')\"\n",
              "            title=\"Convert this dataframe to an interactive table.\"\n",
              "            style=\"display:none;\">\n",
              "\n",
              "  <svg xmlns=\"http://www.w3.org/2000/svg\" height=\"24px\" viewBox=\"0 -960 960 960\">\n",
              "    <path d=\"M120-120v-720h720v720H120Zm60-500h600v-160H180v160Zm220 220h160v-160H400v160Zm0 220h160v-160H400v160ZM180-400h160v-160H180v160Zm440 0h160v-160H620v160ZM180-180h160v-160H180v160Zm440 0h160v-160H620v160Z\"/>\n",
              "  </svg>\n",
              "    </button>\n",
              "\n",
              "  <style>\n",
              "    .colab-df-container {\n",
              "      display:flex;\n",
              "      gap: 12px;\n",
              "    }\n",
              "\n",
              "    .colab-df-convert {\n",
              "      background-color: #E8F0FE;\n",
              "      border: none;\n",
              "      border-radius: 50%;\n",
              "      cursor: pointer;\n",
              "      display: none;\n",
              "      fill: #1967D2;\n",
              "      height: 32px;\n",
              "      padding: 0 0 0 0;\n",
              "      width: 32px;\n",
              "    }\n",
              "\n",
              "    .colab-df-convert:hover {\n",
              "      background-color: #E2EBFA;\n",
              "      box-shadow: 0px 1px 2px rgba(60, 64, 67, 0.3), 0px 1px 3px 1px rgba(60, 64, 67, 0.15);\n",
              "      fill: #174EA6;\n",
              "    }\n",
              "\n",
              "    .colab-df-buttons div {\n",
              "      margin-bottom: 4px;\n",
              "    }\n",
              "\n",
              "    [theme=dark] .colab-df-convert {\n",
              "      background-color: #3B4455;\n",
              "      fill: #D2E3FC;\n",
              "    }\n",
              "\n",
              "    [theme=dark] .colab-df-convert:hover {\n",
              "      background-color: #434B5C;\n",
              "      box-shadow: 0px 1px 3px 1px rgba(0, 0, 0, 0.15);\n",
              "      filter: drop-shadow(0px 1px 2px rgba(0, 0, 0, 0.3));\n",
              "      fill: #FFFFFF;\n",
              "    }\n",
              "  </style>\n",
              "\n",
              "    <script>\n",
              "      const buttonEl =\n",
              "        document.querySelector('#df-a1033066-d4a8-4313-9022-ba954a67a677 button.colab-df-convert');\n",
              "      buttonEl.style.display =\n",
              "        google.colab.kernel.accessAllowed ? 'block' : 'none';\n",
              "\n",
              "      async function convertToInteractive(key) {\n",
              "        const element = document.querySelector('#df-a1033066-d4a8-4313-9022-ba954a67a677');\n",
              "        const dataTable =\n",
              "          await google.colab.kernel.invokeFunction('convertToInteractive',\n",
              "                                                    [key], {});\n",
              "        if (!dataTable) return;\n",
              "\n",
              "        const docLinkHtml = 'Like what you see? Visit the ' +\n",
              "          '<a target=\"_blank\" href=https://colab.research.google.com/notebooks/data_table.ipynb>data table notebook</a>'\n",
              "          + ' to learn more about interactive tables.';\n",
              "        element.innerHTML = '';\n",
              "        dataTable['output_type'] = 'display_data';\n",
              "        await google.colab.output.renderOutput(dataTable, element);\n",
              "        const docLink = document.createElement('div');\n",
              "        docLink.innerHTML = docLinkHtml;\n",
              "        element.appendChild(docLink);\n",
              "      }\n",
              "    </script>\n",
              "  </div>\n",
              "\n",
              "\n",
              "<div id=\"df-405c03d1-d28e-4c7b-a5b6-69c1559c9624\">\n",
              "  <button class=\"colab-df-quickchart\" onclick=\"quickchart('df-405c03d1-d28e-4c7b-a5b6-69c1559c9624')\"\n",
              "            title=\"Suggest charts\"\n",
              "            style=\"display:none;\">\n",
              "\n",
              "<svg xmlns=\"http://www.w3.org/2000/svg\" height=\"24px\"viewBox=\"0 0 24 24\"\n",
              "     width=\"24px\">\n",
              "    <g>\n",
              "        <path d=\"M19 3H5c-1.1 0-2 .9-2 2v14c0 1.1.9 2 2 2h14c1.1 0 2-.9 2-2V5c0-1.1-.9-2-2-2zM9 17H7v-7h2v7zm4 0h-2V7h2v10zm4 0h-2v-4h2v4z\"/>\n",
              "    </g>\n",
              "</svg>\n",
              "  </button>\n",
              "\n",
              "<style>\n",
              "  .colab-df-quickchart {\n",
              "      --bg-color: #E8F0FE;\n",
              "      --fill-color: #1967D2;\n",
              "      --hover-bg-color: #E2EBFA;\n",
              "      --hover-fill-color: #174EA6;\n",
              "      --disabled-fill-color: #AAA;\n",
              "      --disabled-bg-color: #DDD;\n",
              "  }\n",
              "\n",
              "  [theme=dark] .colab-df-quickchart {\n",
              "      --bg-color: #3B4455;\n",
              "      --fill-color: #D2E3FC;\n",
              "      --hover-bg-color: #434B5C;\n",
              "      --hover-fill-color: #FFFFFF;\n",
              "      --disabled-bg-color: #3B4455;\n",
              "      --disabled-fill-color: #666;\n",
              "  }\n",
              "\n",
              "  .colab-df-quickchart {\n",
              "    background-color: var(--bg-color);\n",
              "    border: none;\n",
              "    border-radius: 50%;\n",
              "    cursor: pointer;\n",
              "    display: none;\n",
              "    fill: var(--fill-color);\n",
              "    height: 32px;\n",
              "    padding: 0;\n",
              "    width: 32px;\n",
              "  }\n",
              "\n",
              "  .colab-df-quickchart:hover {\n",
              "    background-color: var(--hover-bg-color);\n",
              "    box-shadow: 0 1px 2px rgba(60, 64, 67, 0.3), 0 1px 3px 1px rgba(60, 64, 67, 0.15);\n",
              "    fill: var(--button-hover-fill-color);\n",
              "  }\n",
              "\n",
              "  .colab-df-quickchart-complete:disabled,\n",
              "  .colab-df-quickchart-complete:disabled:hover {\n",
              "    background-color: var(--disabled-bg-color);\n",
              "    fill: var(--disabled-fill-color);\n",
              "    box-shadow: none;\n",
              "  }\n",
              "\n",
              "  .colab-df-spinner {\n",
              "    border: 2px solid var(--fill-color);\n",
              "    border-color: transparent;\n",
              "    border-bottom-color: var(--fill-color);\n",
              "    animation:\n",
              "      spin 1s steps(1) infinite;\n",
              "  }\n",
              "\n",
              "  @keyframes spin {\n",
              "    0% {\n",
              "      border-color: transparent;\n",
              "      border-bottom-color: var(--fill-color);\n",
              "      border-left-color: var(--fill-color);\n",
              "    }\n",
              "    20% {\n",
              "      border-color: transparent;\n",
              "      border-left-color: var(--fill-color);\n",
              "      border-top-color: var(--fill-color);\n",
              "    }\n",
              "    30% {\n",
              "      border-color: transparent;\n",
              "      border-left-color: var(--fill-color);\n",
              "      border-top-color: var(--fill-color);\n",
              "      border-right-color: var(--fill-color);\n",
              "    }\n",
              "    40% {\n",
              "      border-color: transparent;\n",
              "      border-right-color: var(--fill-color);\n",
              "      border-top-color: var(--fill-color);\n",
              "    }\n",
              "    60% {\n",
              "      border-color: transparent;\n",
              "      border-right-color: var(--fill-color);\n",
              "    }\n",
              "    80% {\n",
              "      border-color: transparent;\n",
              "      border-right-color: var(--fill-color);\n",
              "      border-bottom-color: var(--fill-color);\n",
              "    }\n",
              "    90% {\n",
              "      border-color: transparent;\n",
              "      border-bottom-color: var(--fill-color);\n",
              "    }\n",
              "  }\n",
              "</style>\n",
              "\n",
              "  <script>\n",
              "    async function quickchart(key) {\n",
              "      const quickchartButtonEl =\n",
              "        document.querySelector('#' + key + ' button');\n",
              "      quickchartButtonEl.disabled = true;  // To prevent multiple clicks.\n",
              "      quickchartButtonEl.classList.add('colab-df-spinner');\n",
              "      try {\n",
              "        const charts = await google.colab.kernel.invokeFunction(\n",
              "            'suggestCharts', [key], {});\n",
              "      } catch (error) {\n",
              "        console.error('Error during call to suggestCharts:', error);\n",
              "      }\n",
              "      quickchartButtonEl.classList.remove('colab-df-spinner');\n",
              "      quickchartButtonEl.classList.add('colab-df-quickchart-complete');\n",
              "    }\n",
              "    (() => {\n",
              "      let quickchartButtonEl =\n",
              "        document.querySelector('#df-405c03d1-d28e-4c7b-a5b6-69c1559c9624 button');\n",
              "      quickchartButtonEl.style.display =\n",
              "        google.colab.kernel.accessAllowed ? 'block' : 'none';\n",
              "    })();\n",
              "  </script>\n",
              "</div>\n",
              "\n",
              "  <div id=\"id_e623b742-74e7-4ba7-9eb1-b21d36334301\">\n",
              "    <style>\n",
              "      .colab-df-generate {\n",
              "        background-color: #E8F0FE;\n",
              "        border: none;\n",
              "        border-radius: 50%;\n",
              "        cursor: pointer;\n",
              "        display: none;\n",
              "        fill: #1967D2;\n",
              "        height: 32px;\n",
              "        padding: 0 0 0 0;\n",
              "        width: 32px;\n",
              "      }\n",
              "\n",
              "      .colab-df-generate:hover {\n",
              "        background-color: #E2EBFA;\n",
              "        box-shadow: 0px 1px 2px rgba(60, 64, 67, 0.3), 0px 1px 3px 1px rgba(60, 64, 67, 0.15);\n",
              "        fill: #174EA6;\n",
              "      }\n",
              "\n",
              "      [theme=dark] .colab-df-generate {\n",
              "        background-color: #3B4455;\n",
              "        fill: #D2E3FC;\n",
              "      }\n",
              "\n",
              "      [theme=dark] .colab-df-generate:hover {\n",
              "        background-color: #434B5C;\n",
              "        box-shadow: 0px 1px 3px 1px rgba(0, 0, 0, 0.15);\n",
              "        filter: drop-shadow(0px 1px 2px rgba(0, 0, 0, 0.3));\n",
              "        fill: #FFFFFF;\n",
              "      }\n",
              "    </style>\n",
              "    <button class=\"colab-df-generate\" onclick=\"generateWithVariable('test_data')\"\n",
              "            title=\"Generate code using this dataframe.\"\n",
              "            style=\"display:none;\">\n",
              "\n",
              "  <svg xmlns=\"http://www.w3.org/2000/svg\" height=\"24px\"viewBox=\"0 0 24 24\"\n",
              "       width=\"24px\">\n",
              "    <path d=\"M7,19H8.4L18.45,9,17,7.55,7,17.6ZM5,21V16.75L18.45,3.32a2,2,0,0,1,2.83,0l1.4,1.43a1.91,1.91,0,0,1,.58,1.4,1.91,1.91,0,0,1-.58,1.4L9.25,21ZM18.45,9,17,7.55Zm-12,3A5.31,5.31,0,0,0,4.9,8.1,5.31,5.31,0,0,0,1,6.5,5.31,5.31,0,0,0,4.9,4.9,5.31,5.31,0,0,0,6.5,1,5.31,5.31,0,0,0,8.1,4.9,5.31,5.31,0,0,0,12,6.5,5.46,5.46,0,0,0,6.5,12Z\"/>\n",
              "  </svg>\n",
              "    </button>\n",
              "    <script>\n",
              "      (() => {\n",
              "      const buttonEl =\n",
              "        document.querySelector('#id_e623b742-74e7-4ba7-9eb1-b21d36334301 button.colab-df-generate');\n",
              "      buttonEl.style.display =\n",
              "        google.colab.kernel.accessAllowed ? 'block' : 'none';\n",
              "\n",
              "      buttonEl.onclick = () => {\n",
              "        google.colab.notebook.generateWithVariable('test_data');\n",
              "      }\n",
              "      })();\n",
              "    </script>\n",
              "  </div>\n",
              "\n",
              "    </div>\n",
              "  </div>\n"
            ],
            "application/vnd.google.colaboratory.intrinsic+json": {
              "type": "dataframe",
              "variable_name": "test_data",
              "summary": "{\n  \"name\": \"test_data\",\n  \"rows\": 752,\n  \"fields\": [\n    {\n      \"column\": [\n        \"Date\",\n        \"\"\n      ],\n      \"properties\": {\n        \"dtype\": \"date\",\n        \"min\": \"2012-04-27 00:00:00\",\n        \"max\": \"2015-04-24 00:00:00\",\n        \"num_unique_values\": 752,\n        \"samples\": [\n          \"2014-08-25 00:00:00\",\n          \"2014-09-04 00:00:00\",\n          \"2014-04-04 00:00:00\"\n        ],\n        \"semantic_type\": \"\",\n        \"description\": \"\"\n      }\n    },\n    {\n      \"column\": [\n        \"Capital Gains\",\n        \"ACWI\"\n      ],\n      \"properties\": {\n        \"dtype\": \"number\",\n        \"std\": 0.0,\n        \"min\": 0.0,\n        \"max\": 0.0,\n        \"num_unique_values\": 1,\n        \"samples\": [\n          0.0\n        ],\n        \"semantic_type\": \"\",\n        \"description\": \"\"\n      }\n    },\n    {\n      \"column\": [\n        \"Close\",\n        \"ACWI\"\n      ],\n      \"properties\": {\n        \"dtype\": \"number\",\n        \"std\": 5.27200723094361,\n        \"min\": 31.598087310791016,\n        \"max\": 51.295230865478516,\n        \"num_unique_values\": 685,\n        \"samples\": [\n          42.033782958984375\n        ],\n        \"semantic_type\": \"\",\n        \"description\": \"\"\n      }\n    },\n    {\n      \"column\": [\n        \"Dividends\",\n        \"ACWI\"\n      ],\n      \"properties\": {\n        \"dtype\": \"number\",\n        \"std\": 0.053164088072443674,\n        \"min\": 0.0,\n        \"max\": 0.836,\n        \"num_unique_values\": 7,\n        \"samples\": [\n          0.0\n        ],\n        \"semantic_type\": \"\",\n        \"description\": \"\"\n      }\n    },\n    {\n      \"column\": [\n        \"High\",\n        \"ACWI\"\n      ],\n      \"properties\": {\n        \"dtype\": \"number\",\n        \"std\": 5.268530795828391,\n        \"min\": 31.835440254336238,\n        \"max\": 51.36072993360127,\n        \"num_unique_values\": 751,\n        \"samples\": [\n          46.09700682943271\n        ],\n        \"semantic_type\": \"\",\n        \"description\": \"\"\n      }\n    },\n    {\n      \"column\": [\n        \"Low\",\n        \"ACWI\"\n      ],\n      \"properties\": {\n        \"dtype\": \"number\",\n        \"std\": 5.265707151088987,\n        \"min\": 31.43730550743012,\n        \"max\": 51.11510296233725,\n        \"num_unique_values\": 752,\n        \"samples\": [\n          49.240607725130836\n        ],\n        \"semantic_type\": \"\",\n        \"description\": \"\"\n      }\n    },\n    {\n      \"column\": [\n        \"Open\",\n        \"ACWI\"\n      ],\n      \"properties\": {\n        \"dtype\": \"number\",\n        \"std\": 5.261374168879843,\n        \"min\": 31.697620601293114,\n        \"max\": 51.25429043417085,\n        \"num_unique_values\": 751,\n        \"samples\": [\n          45.76875924296421\n        ],\n        \"semantic_type\": \"\",\n        \"description\": \"\"\n      }\n    },\n    {\n      \"column\": [\n        \"Stock Splits\",\n        \"ACWI\"\n      ],\n      \"properties\": {\n        \"dtype\": \"number\",\n        \"std\": 0.0,\n        \"min\": 0.0,\n        \"max\": 0.0,\n        \"num_unique_values\": 1,\n        \"samples\": [\n          0.0\n        ],\n        \"semantic_type\": \"\",\n        \"description\": \"\"\n      }\n    },\n    {\n      \"column\": [\n        \"Volume\",\n        \"ACWI\"\n      ],\n      \"properties\": {\n        \"dtype\": \"number\",\n        \"std\": 990447,\n        \"min\": 99900,\n        \"max\": 9388300,\n        \"num_unique_values\": 746,\n        \"samples\": [\n          1486900\n        ],\n        \"semantic_type\": \"\",\n        \"description\": \"\"\n      }\n    },\n    {\n      \"column\": [\n        \"True Close\",\n        \"ACWI\"\n      ],\n      \"properties\": {\n        \"dtype\": \"number\",\n        \"std\": 5.271665969261344,\n        \"min\": 31.598087310791016,\n        \"max\": 51.295230865478516,\n        \"num_unique_values\": 685,\n        \"samples\": [\n          42.033782958984375\n        ],\n        \"semantic_type\": \"\",\n        \"description\": \"\"\n      }\n    },\n    {\n      \"column\": [\n        \"Returns %\",\n        \"ACWI\"\n      ],\n      \"properties\": {\n        \"dtype\": \"number\",\n        \"std\": 0.8099068380293695,\n        \"min\": -3.0114587729209497,\n        \"max\": 3.0053961943940832,\n        \"num_unique_values\": 748,\n        \"samples\": [\n          0.6120834532468145\n        ],\n        \"semantic_type\": \"\",\n        \"description\": \"\"\n      }\n    }\n  ]\n}"
            }
          },
          "metadata": {},
          "execution_count": 14
        }
      ]
    },
    {
      "cell_type": "code",
      "source": [
        "col = test_data['Returns %'].dropna()\n",
        "test_arr = col.to_numpy()"
      ],
      "metadata": {
        "id": "NR7MYimWNvy1"
      },
      "execution_count": 15,
      "outputs": []
    },
    {
      "cell_type": "code",
      "source": [
        "from scipy.stats import kstest\n",
        "\n",
        "# Perform KS tests\n",
        "ks_johnsonsu = kstest(test_arr, 'johnsonsu', args=johnson_params)\n",
        "ks_tukeylambda = kstest(test_arr, 'tukeylambda', args=tukey_params)\n",
        "ks_gaussian = kstest(test_arr, 'norm', args=(mean, std_dev))\n",
        "\n",
        "\n",
        "# Interpretation:\n",
        "# KS statistic: lower value --> better.\n",
        "# Less distance between observed results and pdf.\n",
        "#\n",
        "# P-value, higher value --> better.\n",
        "# More confidence the distribution is a good fit.\n",
        "\n",
        "# Display results\n",
        "\n",
        "# Display results\n",
        "print(\"=== Gaussian ===\")\n",
        "print(f\"Parameters: mean={mean}, standard deviation={std_dev}\")\n",
        "print(f\"KS Statistic: {ks_gaussian.statistic}\")\n",
        "print(f\"P-Value: {ks_gaussian.pvalue}\")\n",
        "\n",
        "print(\"\\n=== Johnson SU ===\")\n",
        "print(f\"Parameters: a={a_su}, b={b_su}, loc={loc_su}, scale={scale_su}\")\n",
        "print(f\"KS Statistic: {ks_johnsonsu.statistic}\")\n",
        "print(f\"P-Value: {ks_johnsonsu.pvalue}\")\n",
        "\n",
        "print(\"\\n=== Tukey Lambda ===\")\n",
        "print(f\"Parameters: loc={loc_tl}, scale={scale_tl}\")\n",
        "print(f\"KS Statistic: {ks_tukeylambda.statistic}\")\n",
        "print(f\"P-Value: {ks_tukeylambda.pvalue}\")"
      ],
      "metadata": {
        "colab": {
          "base_uri": "https://localhost:8080/"
        },
        "id": "Ym06nYIbTrFP",
        "outputId": "5a7da755-cb63-42fb-c6e5-1155b7108f32"
      },
      "execution_count": 16,
      "outputs": [
        {
          "output_type": "stream",
          "name": "stdout",
          "text": [
            "=== Gaussian ===\n",
            "Parameters: mean=0.03776006382454037, standard deviation=1.1072095616996684\n",
            "KS Statistic: [0.1130601]\n",
            "P-Value: [8.10199385e-09]\n",
            "\n",
            "=== Johnson SU ===\n",
            "Parameters: a=0.10462651453254046, b=1.1399960228303831, loc=0.1487781785578856, scale=0.8020324863379076\n",
            "KS Statistic: [0.03866444]\n",
            "P-Value: [0.20613832]\n",
            "\n",
            "=== Tukey Lambda ===\n",
            "Parameters: loc=0.07690031361278163, scale=0.3799193281783578\n",
            "KS Statistic: [0.04581583]\n",
            "P-Value: [0.0828392]\n"
          ]
        }
      ]
    },
    {
      "cell_type": "markdown",
      "source": [
        "# Fitt Gaussian Mixture Model (GMM)"
      ],
      "metadata": {
        "id": "mcKO9w8Wmb1t"
      }
    },
    {
      "cell_type": "code",
      "source": [
        "# prepare data for GMM giy"
      ],
      "metadata": {
        "id": "409mttAmYdwU"
      },
      "execution_count": 17,
      "outputs": []
    },
    {
      "cell_type": "code",
      "source": [
        "data[('Returns %', 'ACWI')] = data[('True Close', 'ACWI')].pct_change() * 100\n",
        "\n",
        "return_col = data[('Returns %', 'ACWI')].dropna()\n",
        "\n",
        "returns_arr = return_col.to_numpy()\n",
        "\n",
        "print(returns_arr.shape)\n",
        "\n",
        "# the data needs to in the form of [n_samples, n_features]\n",
        "\n",
        "returns_arr = returns_arr.reshape(-1, 1) # one dim can be -1, it's dimensons are inferred.\n",
        "print(returns_arr.shape)"
      ],
      "metadata": {
        "id": "wdFLPteUB4A5",
        "colab": {
          "base_uri": "https://localhost:8080/"
        },
        "outputId": "ae42d6f7-ee77-4f84-95fc-9a2604bf71c4"
      },
      "execution_count": 18,
      "outputs": [
        {
          "output_type": "stream",
          "name": "stdout",
          "text": [
            "(2513,)\n",
            "(2513, 1)\n"
          ]
        }
      ]
    },
    {
      "cell_type": "code",
      "source": [
        "import numpy as np\n",
        "import matplotlib.pyplot as plt\n",
        "from sklearn.mixture import GaussianMixture\n",
        "\n",
        "\n",
        "# Initialize and fit the GMM\n",
        "gmm = GaussianMixture(\n",
        "    n_components=3,  # Number of Gaussian components (adjust as needed)\n",
        "    covariance_type='full',  # Each component has its own general covariance matrix\n",
        "    random_state=42  # Ensures reproducibility\n",
        ")\n",
        "\n",
        "\n",
        "gmm.fit(returns_arr)\n",
        "\n",
        "# Extract GMM parameters\n",
        "weights = gmm.weights_\n",
        "means = gmm.means_.flatten()\n",
        "covariances = gmm.covariances_.flatten()\n",
        "\n",
        "print(\"GMM Parameters:\")\n",
        "print(f\"Weights: {weights}\")\n",
        "print(f\"Means: {means}\")\n",
        "print(f\"Covariances: {covariances}\")\n",
        "\n",
        "# Plot the original data histogram and GMM components\n",
        "\n",
        "#############################################################################\n",
        "# pdf explanation\n",
        "# score_samples computes the log-likelihood of the domain\n",
        "# The likelihood function on the domain is the pdf by definition.\n",
        "# log is used for computational stability.\n",
        "# it's exponented with np.exp(.) to undo the log-operation and give the pdf.\n",
        "############################################################################\n",
        "\n",
        "x = np.linspace(returns_arr.min(), returns_arr.max(), 1000).reshape(-1, 1)\n",
        "pdf = np.exp(gmm.score_samples(x))  # GMM PDF\n",
        "components = [weights[i] * np.exp(-0.5 * ((x - means[i])**2) / covariances[i]) /\n",
        "              np.sqrt(2 * np.pi * covariances[i]) for i in range(len(weights))]\n",
        "\n",
        "plt.hist(returns_arr, bins=30, density=True, alpha=0.6, color='gray', label='Histogram')\n",
        "plt.plot(x, pdf, label='GMM Total PDF', color='black')\n",
        "for i, comp in enumerate(components):\n",
        "    plt.plot(x, comp, label=f'Component {i+1}')\n",
        "plt.legend()\n",
        "plt.title('GMM Fit to Returns Data')\n",
        "plt.xlabel('Returns (%)')\n",
        "plt.ylabel('Density')\n",
        "plt.show()"
      ],
      "metadata": {
        "colab": {
          "base_uri": "https://localhost:8080/",
          "height": 541
        },
        "id": "4UZWTbrsxAgD",
        "outputId": "14f2f386-9e0d-4cc5-81be-1ba5c3d9e6fc"
      },
      "execution_count": 19,
      "outputs": [
        {
          "output_type": "stream",
          "name": "stdout",
          "text": [
            "GMM Parameters:\n",
            "Weights: [0.6094116  0.14581229 0.24477611]\n",
            "Means: [ 0.04387971 -0.44810545  0.31195259]\n",
            "Covariances: [0.34710985 4.89842266 1.00825409]\n"
          ]
        },
        {
          "output_type": "display_data",
          "data": {
            "text/plain": [
              "<Figure size 640x480 with 1 Axes>"
            ],
            "image/png": "[encoded data removed]"
          },
          "metadata": {}
        }
      ]
    },
    {
      "cell_type": "code",
      "source": [
        "from scipy.stats import norm, ks_1samp\n",
        "\n",
        "weights = gmm.weights_\n",
        "means = gmm.means_.flatten()\n",
        "covariances = gmm.covariances_.flatten()\n",
        "\n",
        "cdf = 0\n",
        "for weight, mean, covar in zip(gmm.weights_, gmm.means_.flatten(), gmm.covariances_.flatten()):\n",
        "  cdf += weight * norm.cdf(x, loc=mean, scale=np.sqrt(covar))"
      ],
      "metadata": {
        "id": "3Z8wTXQV6FQr"
      },
      "execution_count": 20,
      "outputs": []
    },
    {
      "cell_type": "code",
      "source": [
        "######################### K-S test of the GMM\n",
        "# now I don't have a distribution implemented by scipy.\n",
        "# But, I can use scipy.stats ks_1samp to do the test anyway.\n",
        "# 'This test compares the underlying distribution F(x) of a sample against a given continuous distribution G(x)'\n",
        "# from the documentation:\n",
        "# https://docs.scipy.org/doc/scipy/reference/generated/scipy.stats.ks_1samp.html\n",
        "###\n",
        "\n",
        "\n",
        "from scipy.stats import norm, ks_1samp\n",
        "\n",
        "# Define the CDF of the GMM\n",
        "# Theory:\n",
        "# CDF of a GMM is Sigma_k w_k * cdf_k,\n",
        "# where w_k is the weight of the kth component,\n",
        "# cdf_k is the cdf of the kth component\n",
        "# and Sigma_k is summation with respect to k.\n",
        "\n",
        "def gmm_cdf(x, gmm):\n",
        "    \"\"\"\n",
        "    Compute the CDF of a Gaussian Mixture Model at x.\n",
        "    \"\"\"\n",
        "    cdf = 0\n",
        "    for weight, mean, covar in zip(gmm.weights_, gmm.means_.flatten(), gmm.covariances_.flatten()):\n",
        "        cdf += weight * norm.cdf(x, loc=mean, scale=np.sqrt(covar))\n",
        "    return cdf\n",
        "\n",
        "# Apply the K-S test\n",
        "def ks_test_gmm(data, gmm):\n",
        "    \"\"\"\n",
        "    Perform the Kolmogorov-Smirnov test for a GMM.\n",
        "    \"\"\"\n",
        "    cdf_values = np.array([gmm_cdf(x, gmm) for x in data])\n",
        "    ks_statistic, p_value = ks_1samp(data, lambda x: gmm_cdf(x, gmm))\n",
        "    return ks_statistic, p_value\n",
        "\n",
        "# Perform the test\n",
        "ks_stat, p_val = ks_test_gmm(test_arr, gmm)\n",
        "print(f\"K-S Statistic: {ks_stat}, P-value: {p_val}\")"
      ],
      "metadata": {
        "id": "q0-DUB6xG0fE",
        "colab": {
          "base_uri": "https://localhost:8080/"
        },
        "outputId": "23c06d40-3cfc-4369-909c-d19f0c4546b9"
      },
      "execution_count": 21,
      "outputs": [
        {
          "output_type": "stream",
          "name": "stdout",
          "text": [
            "K-S Statistic: [0.04747831], P-value: [0.06554322]\n"
          ]
        }
      ]
    },
    {
      "cell_type": "code",
      "source": [
        "# Fit different gmm models using different amount of modes.\n",
        "# Use the best one\n",
        "\n",
        "p_best = 0\n",
        "\n",
        "# n represents number of modes to try\n",
        "for n in range(2, 20):\n",
        "\n",
        "  gmm_current = GaussianMixture(\n",
        "      n_components=n,  # Number of Gaussian components (adjust as needed)\n",
        "      covariance_type='full',  # Each component has its own general covariance matrix\n",
        "      random_state=42  # Ensures reproducibility\n",
        "  )\n",
        "\n",
        "\n",
        "  gmm_current.fit(returns_arr)\n",
        "\n",
        "\n",
        "  ks_stat, p_val = ks_test_gmm(test_arr, gmm_current)\n",
        "  #print(f\"K-S Statistic: {ks_stat}, P-value: {p_val}, Number of modes: {n}\")\n",
        "  if p_val > p_best:\n",
        "    p_best = p_val\n",
        "    gmm_best = gmm_current\n",
        "    n_best = n\n",
        "    print(f'New best: K-S Statistic: {ks_stat}, P-value: {p_val}, Number of modes: {n_best}')"
      ],
      "metadata": {
        "id": "v4b4rqtCyjhD",
        "colab": {
          "base_uri": "https://localhost:8080/"
        },
        "outputId": "c59f5b4c-ba6d-452d-cc3e-bdbde6515a5f"
      },
      "execution_count": 22,
      "outputs": [
        {
          "output_type": "stream",
          "name": "stdout",
          "text": [
            "New best: K-S Statistic: [0.05267197], P-value: [0.02988537], Number of modes: 2\n",
            "New best: K-S Statistic: [0.04747831], P-value: [0.06554322], Number of modes: 3\n",
            "New best: K-S Statistic: [0.04723888], P-value: [0.06782644], Number of modes: 6\n",
            "New best: K-S Statistic: [0.04523518], P-value: [0.08972316], Number of modes: 9\n"
          ]
        }
      ]
    },
    {
      "cell_type": "code",
      "source": [
        "# plot the best GMM-fit.\n",
        "\n",
        "weights = gmm_best.weights_\n",
        "means = gmm_best.means_.flatten()\n",
        "covariances = gmm_best.covariances_.flatten()\n",
        "\n",
        "ks_stat, p_val = ks_test_gmm(test_arr, gmm_best)\n",
        "print(f\"K-S Statistic: {ks_stat}, P-value: {p_val}\")\n",
        "print(\"GMM Parameters:\")\n",
        "print(f\"Number of modes: {n_best}\")\n",
        "print(f\"Weights: {weights}\")\n",
        "print(f\"Means: {means}\")\n",
        "print(f\"Covariances: {covariances}\")\n",
        "\n",
        "\n",
        "x = np.linspace(returns_arr.min(), returns_arr.max(), 1000).reshape(-1, 1)\n",
        "pdf = np.exp(gmm_best.score_samples(x))  # GMM PDF\n",
        "components = [weights[i] * np.exp(-0.5 * ((x - means[i])**2) / covariances[i]) /\n",
        "              np.sqrt(2 * np.pi * covariances[i]) for i in range(len(weights))]\n",
        "\n",
        "plt.hist(returns_arr, bins=30, density=True, alpha=0.6, color='gray', label='Histogram')\n",
        "plt.plot(x, pdf, label='GMM Total PDF', color='black')\n",
        "for i, comp in enumerate(components):\n",
        "    plt.plot(x, comp, label=f'Component {i+1}')\n",
        "plt.legend()\n",
        "plt.title('GMM Fit to Returns Data')\n",
        "plt.xlabel('Returns (%)')\n",
        "plt.ylabel('Density')\n",
        "plt.show()"
      ],
      "metadata": {
        "id": "gTZXx9806Xgg",
        "colab": {
          "base_uri": "https://localhost:8080/",
          "height": 628
        },
        "outputId": "b767999f-bd9c-4f89-be97-f100e49cf224"
      },
      "execution_count": 23,
      "outputs": [
        {
          "output_type": "stream",
          "name": "stdout",
          "text": [
            "K-S Statistic: [0.04523518], P-value: [0.08972316]\n",
            "GMM Parameters:\n",
            "Number of modes: 9\n",
            "Weights: [0.21040193 0.16711696 0.02451688 0.13335284 0.00495333 0.00525496\n",
            " 0.03814657 0.09493424 0.32132227]\n",
            "Means: [ 0.49199583 -0.56411794 -2.71208669  1.12247918 -5.60134153  5.15928944\n",
            "  2.05214252 -1.34792    -0.01357535]\n",
            "Covariances: [0.0601148  0.07175135 0.37332336 0.09497769 7.75107676 4.09495799\n",
            " 0.27044017 0.14013908 0.04954623]\n"
          ]
        },
        {
          "output_type": "display_data",
          "data": {
            "text/plain": [
              "<Figure size 640x480 with 1 Axes>"
            ],
            "image/png": "[encoded data removed]"
          },
          "metadata": {}
        }
      ]
    }
  ]
}